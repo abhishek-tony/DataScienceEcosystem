{
 "cells": [
  {
   "cell_type": "markdown",
   "id": "8f13e552-8c05-42ba-88b0-b34633f608b4",
   "metadata": {
    "tags": []
   },
   "source": [
    "\n",
    "\n",
    "Data Science Tools and Ecosystem\n",
    "     Some of the popular languages that Data Scientists use are: \n",
    "        #    In this notebook, Data Science Tools and Ecosystem are summarized.\n",
    "        \n",
    "        **Objectives**\n",
    "-List Popular languages in Data Science\n",
    "-Various Data Science Tools\n",
    "-Most common used Libraries by Data Scientists\n",
    "   \n",
    "   1.RStudio\n",
    "   2.SQL\n",
    "   3.Java\n",
    "   4.Java Script\n",
    "   5.Julia\n",
    "   6.Scala\n",
    "   \n",
    "   Some of the commonly used libraries used by Data Scientists include:\n",
    "   1.Pandas\n",
    "   2.Numpy\n",
    "   3.PyTorch\n",
    "   4.SciPy\n",
    "   5.TensorFlow\n",
    "   6.MatPlotlib\n",
    "   \n",
    "          Data Science Tools\n",
    "          ------------------\n",
    "          RStudio\n",
    "          Jupyter\n",
    "          TensorFlow \n",
    "          \n",
    "    ##Below are a few examples of evaluating arithmetic expressions in Python.\n",
    "    \n",
    "    ##Author\n",
    "    Abhishek\n",
    "    \n",
    "  \n",
    "    \n",
    "    "
   ]
  }
 ],
 "metadata": {
  "kernelspec": {
   "display_name": "Python",
   "language": "python",
   "name": "conda-env-python-py"
  },
  "language_info": {
   "codemirror_mode": {
    "name": "ipython",
    "version": 3
   },
   "file_extension": ".py",
   "mimetype": "text/x-python",
   "name": "python",
   "nbconvert_exporter": "python",
   "pygments_lexer": "ipython3",
   "version": "3.7.12"
  }
 },
 "nbformat": 4,
 "nbformat_minor": 5
}
